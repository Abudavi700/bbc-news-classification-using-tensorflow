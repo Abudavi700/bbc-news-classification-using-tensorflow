{
 "cells": [
  {
   "cell_type": "code",
   "execution_count": 1,
   "id": "a9c5b6f2",
   "metadata": {},
   "outputs": [],
   "source": [
    "#import semua library yang dibutuhkan\n",
    "import csv\n",
    "from tensorflow.keras.preprocessing.text import Tokenizer\n",
    "from tensorflow.keras.preprocessing.sequence import pad_sequences"
   ]
  },
  {
   "cell_type": "code",
   "execution_count": 2,
   "id": "b92dca80",
   "metadata": {},
   "outputs": [
    {
     "data": {
      "text/html": [
       "<div>\n",
       "<style scoped>\n",
       "    .dataframe tbody tr th:only-of-type {\n",
       "        vertical-align: middle;\n",
       "    }\n",
       "\n",
       "    .dataframe tbody tr th {\n",
       "        vertical-align: top;\n",
       "    }\n",
       "\n",
       "    .dataframe thead th {\n",
       "        text-align: right;\n",
       "    }\n",
       "</style>\n",
       "<table border=\"1\" class=\"dataframe\">\n",
       "  <thead>\n",
       "    <tr style=\"text-align: right;\">\n",
       "      <th></th>\n",
       "      <th>ArticleId</th>\n",
       "      <th>Text</th>\n",
       "      <th>Category</th>\n",
       "    </tr>\n",
       "  </thead>\n",
       "  <tbody>\n",
       "    <tr>\n",
       "      <th>0</th>\n",
       "      <td>1833</td>\n",
       "      <td>worldcom ex-boss launches defence lawyers defe...</td>\n",
       "      <td>business</td>\n",
       "    </tr>\n",
       "    <tr>\n",
       "      <th>1</th>\n",
       "      <td>154</td>\n",
       "      <td>german business confidence slides german busin...</td>\n",
       "      <td>business</td>\n",
       "    </tr>\n",
       "    <tr>\n",
       "      <th>2</th>\n",
       "      <td>1101</td>\n",
       "      <td>bbc poll indicates economic gloom citizens in ...</td>\n",
       "      <td>business</td>\n",
       "    </tr>\n",
       "    <tr>\n",
       "      <th>3</th>\n",
       "      <td>1976</td>\n",
       "      <td>lifestyle  governs mobile choice  faster  bett...</td>\n",
       "      <td>tech</td>\n",
       "    </tr>\n",
       "    <tr>\n",
       "      <th>4</th>\n",
       "      <td>917</td>\n",
       "      <td>enron bosses in $168m payout eighteen former e...</td>\n",
       "      <td>business</td>\n",
       "    </tr>\n",
       "    <tr>\n",
       "      <th>...</th>\n",
       "      <td>...</td>\n",
       "      <td>...</td>\n",
       "      <td>...</td>\n",
       "    </tr>\n",
       "    <tr>\n",
       "      <th>1485</th>\n",
       "      <td>857</td>\n",
       "      <td>double eviction from big brother model caprice...</td>\n",
       "      <td>entertainment</td>\n",
       "    </tr>\n",
       "    <tr>\n",
       "      <th>1486</th>\n",
       "      <td>325</td>\n",
       "      <td>dj double act revamp chart show dj duo jk and ...</td>\n",
       "      <td>entertainment</td>\n",
       "    </tr>\n",
       "    <tr>\n",
       "      <th>1487</th>\n",
       "      <td>1590</td>\n",
       "      <td>weak dollar hits reuters revenues at media gro...</td>\n",
       "      <td>business</td>\n",
       "    </tr>\n",
       "    <tr>\n",
       "      <th>1488</th>\n",
       "      <td>1587</td>\n",
       "      <td>apple ipod family expands market apple has exp...</td>\n",
       "      <td>tech</td>\n",
       "    </tr>\n",
       "    <tr>\n",
       "      <th>1489</th>\n",
       "      <td>538</td>\n",
       "      <td>santy worm makes unwelcome visit thousands of ...</td>\n",
       "      <td>tech</td>\n",
       "    </tr>\n",
       "  </tbody>\n",
       "</table>\n",
       "<p>1490 rows × 3 columns</p>\n",
       "</div>"
      ],
      "text/plain": [
       "      ArticleId                                               Text  \\\n",
       "0          1833  worldcom ex-boss launches defence lawyers defe...   \n",
       "1           154  german business confidence slides german busin...   \n",
       "2          1101  bbc poll indicates economic gloom citizens in ...   \n",
       "3          1976  lifestyle  governs mobile choice  faster  bett...   \n",
       "4           917  enron bosses in $168m payout eighteen former e...   \n",
       "...         ...                                                ...   \n",
       "1485        857  double eviction from big brother model caprice...   \n",
       "1486        325  dj double act revamp chart show dj duo jk and ...   \n",
       "1487       1590  weak dollar hits reuters revenues at media gro...   \n",
       "1488       1587  apple ipod family expands market apple has exp...   \n",
       "1489        538  santy worm makes unwelcome visit thousands of ...   \n",
       "\n",
       "           Category  \n",
       "0          business  \n",
       "1          business  \n",
       "2          business  \n",
       "3              tech  \n",
       "4          business  \n",
       "...             ...  \n",
       "1485  entertainment  \n",
       "1486  entertainment  \n",
       "1487       business  \n",
       "1488           tech  \n",
       "1489           tech  \n",
       "\n",
       "[1490 rows x 3 columns]"
      ]
     },
     "execution_count": 2,
     "metadata": {},
     "output_type": "execute_result"
    }
   ],
   "source": [
    "import pandas as pd\n",
    "df = pd.read_csv('Dataset/BBC News Train.csv')\n",
    "df"
   ]
  },
  {
   "cell_type": "code",
   "execution_count": 3,
   "id": "c54bf345",
   "metadata": {},
   "outputs": [
    {
     "name": "stdout",
     "output_type": "stream",
     "text": [
      "<class 'pandas.core.frame.DataFrame'>\n",
      "RangeIndex: 1490 entries, 0 to 1489\n",
      "Data columns (total 3 columns):\n",
      " #   Column     Non-Null Count  Dtype \n",
      "---  ------     --------------  ----- \n",
      " 0   ArticleId  1490 non-null   int64 \n",
      " 1   Text       1490 non-null   object\n",
      " 2   Category   1490 non-null   object\n",
      "dtypes: int64(1), object(2)\n",
      "memory usage: 35.0+ KB\n"
     ]
    }
   ],
   "source": [
    "df.info()"
   ]
  },
  {
   "cell_type": "code",
   "execution_count": 24,
   "id": "d5f93e37",
   "metadata": {},
   "outputs": [
    {
     "name": "stdout",
     "output_type": "stream",
     "text": [
      "Berikut adalah nama-nama kolom:\n",
      "\n",
      " ArticleId,Text,Category\n",
      "\n",
      "konten file adalah sebagai berikut:\n",
      "\n",
      " 1833,worldcom ex-boss launches defence lawyers defending former worldcom chief bernie ebbers against a battery of fraud charges have called a company whistleblower as their first witness.  cynthia cooper  worldcom s ex-head of internal accounting  alerted directors to irregular accounting practices at the us telecoms giant in 2002. her warnings led to the collapse of the firm following the discovery of an $11bn (Â£5.7bn) accounting fraud. mr ebbers has pleaded not guilty to charges of fraud and conspiracy.  prosecution lawyers have argued that mr ebbers orchestrated a series of accounting tricks at worldcom  ordering employees to hide expenses and inflate revenues to meet wall street earnings estimates. but ms cooper  who now runs her own consulting business  told a jury in new york on wednesday that external auditors arthur andersen had approved worldcom s accounting in early 2001 and 2002. she said andersen had given a  green light  to the procedures and practices used by worldcom. mr ebber s lawyers have said he was unaware of the fraud  arguing that auditors did not alert him to any problems.  ms cooper also said that during shareholder meetings mr ebbers often passed over technical questions to the company s finance chief  giving only  brief  answers himself. the prosecution s star witness  former worldcom financial chief scott sullivan  has said that mr ebbers ordered accounting adjustments at the firm  telling him to  hit our books . however  ms cooper said mr sullivan had not mentioned  anything uncomfortable  about worldcom s accounting during a 2001 audit committee meeting. mr ebbers could face a jail sentence of 85 years if convicted of all the charges he is facing. worldcom emerged from bankruptcy protection in 2004  and is now known as mci. last week  mci agreed to a buyout by verizon communications in a deal valued at $6.75bn.,business\n",
      "\n"
     ]
    }
   ],
   "source": [
    "#Memahami bentuk data\n",
    "dataset = 'Dataset/BBC News Train.csv'\n",
    "test_file = 'Dataset/BBC News Test.csv'\n",
    "with open(dataset) as csvfile:\n",
    "    print('Berikut adalah nama-nama kolom:\\n\\n', csvfile.readline())\n",
    "    print('konten file adalah sebagai berikut:\\n\\n', csvfile.readline())"
   ]
  },
  {
   "cell_type": "code",
   "execution_count": 5,
   "id": "f7fce780",
   "metadata": {},
   "outputs": [],
   "source": [
    "#Buat fungsi untuk membuang semua stopping words, yaitu kata2 yang tidak memiliki makna berarti (general)\n",
    "def stopwords_remove(sentence):\n",
    "    stopwords = [\"s\", \"mr\", \"ms\", \"a\", \"about\", \"above\", \"after\", \"again\", \"against\", \"all\", \"am\", \"an\", \"and\", \"any\", \"are\", \"as\", \"at\", \"be\", \"because\", \"been\", \"before\", \"being\", \"below\", \"between\", \"both\", \"but\", \"by\", \"could\", \"did\", \"do\", \"does\", \"doing\", \"down\", \"during\", \"each\", \"few\", \"for\", \"from\", \"further\", \"had\", \"has\", \"have\", \"having\", \"he\", \"he'd\", \"he'll\", \"he's\", \"her\", \"here\", \"here's\", \"hers\", \"herself\", \"him\", \"himself\", \"his\", \"how\", \"how's\", \"i\", \"i'd\", \"i'll\", \"i'm\", \"i've\", \"if\", \"in\", \"into\", \"is\", \"it\", \"it's\", \"its\", \"itself\", \"let's\", \"me\", \"more\", \"most\", \"my\", \"myself\", \"nor\", \"of\", \"on\", \"once\", \"only\", \"or\", \"other\", \"ought\", \"our\", \"ours\", \"ourselves\", \"out\", \"over\", \"own\", \"same\", \"she\", \"she'd\", \"she'll\", \"she's\", \"should\", \"so\", \"some\", \"such\", \"than\", \"that\", \"that's\", \"the\", \"their\", \"theirs\", \"them\", \"themselves\", \"then\", \"there\", \"there's\", \"these\", \"they\", \"they'd\", \"they'll\", \"they're\", \"they've\", \"this\", \"those\", \"through\", \"to\", \"too\", \"under\", \"until\", \"up\", \"very\", \"was\", \"we\", \"we'd\", \"we'll\", \"we're\", \"we've\", \"were\", \"what\", \"what's\", \"when\", \"when's\", \"where\", \"where's\", \"which\", \"while\", \"who\", \"who's\", \"whom\", \"why\", \"why's\", \"with\", \"would\", \"you\", \"you'd\", \"you'll\", \"you're\", \"you've\", \"your\", \"yours\", \"yourself\", \"yourselves\" ]\n",
    "    sentences = []\n",
    "    for word in sentence.lower().split():\n",
    "        if word.strip('.') in stopwords:\n",
    "            pass\n",
    "        else:\n",
    "            sentences.append(word.strip('.'))\n",
    "    sentences = ' '.join(sentences)\n",
    "    return sentences   \n",
    "        "
   ]
  },
  {
   "cell_type": "code",
   "execution_count": 6,
   "id": "36299b1f",
   "metadata": {},
   "outputs": [],
   "source": [
    "#Buang semua stopping words, yaitu kata2 yang tidak memiliki makna berarti (general)\n",
    "#dan ambil kolom berita('Text'), dan kategorinya ('Category')\n",
    "def parsing_file(file):\n",
    "    sentences = []\n",
    "    labels = []\n",
    "    \n",
    "    with open(file) as csvfile:\n",
    "        next(csvfile)\n",
    "        csvfile = csv.reader(csvfile, delimiter=',')\n",
    "        for row in csvfile:\n",
    "            row[1] = stopwords_remove(row[1])\n",
    "            sentences.append(row[1])\n",
    "            labels.append(row[2])\n",
    "        \n",
    "    return sentences, labels"
   ]
  },
  {
   "cell_type": "code",
   "execution_count": 25,
   "id": "5817ce87",
   "metadata": {},
   "outputs": [
    {
     "data": {
      "text/plain": [
       "1490"
      ]
     },
     "execution_count": 25,
     "metadata": {},
     "output_type": "execute_result"
    }
   ],
   "source": [
    "dataset_sentences, dataset_labels = parsing_file(dataset)\n",
    "len(dataset_sentences)"
   ]
  },
  {
   "cell_type": "code",
   "execution_count": 21,
   "id": "56da1f6f",
   "metadata": {},
   "outputs": [],
   "source": [
    "#Preprocess the test data\n",
    "test_id = []\n",
    "test_sentences = []\n",
    "\n",
    "with open(test_file) as csvfile:\n",
    "        next(csvfile)\n",
    "        csvfile = csv.reader(csvfile, delimiter=',')\n",
    "        for row in csvfile:\n",
    "            row[1] = stopwords_remove(row[1])\n",
    "            test_id.append(row[0])\n",
    "            test_sentences.append(row[1])"
   ]
  },
  {
   "cell_type": "code",
   "execution_count": 23,
   "id": "19a9541c",
   "metadata": {},
   "outputs": [
    {
     "data": {
      "text/plain": [
       "735"
      ]
     },
     "execution_count": 23,
     "metadata": {},
     "output_type": "execute_result"
    }
   ],
   "source": [
    "len(test_sentences)\n",
    "len(test_id)"
   ]
  },
  {
   "cell_type": "code",
   "execution_count": null,
   "id": "3018798a",
   "metadata": {},
   "outputs": [],
   "source": [
    "# len(train_sentences[1].split())\n",
    "# train_labels[:5]\n",
    "# len(train_sentences)"
   ]
  },
  {
   "cell_type": "markdown",
   "id": "456b75bf",
   "metadata": {},
   "source": [
    "## Tokenizer"
   ]
  },
  {
   "cell_type": "code",
   "execution_count": 13,
   "id": "9dfe1f9e",
   "metadata": {},
   "outputs": [],
   "source": [
    "#Build function for tokenize sentences\n",
    "def fit_tokenizer(sentences):\n",
    "    #parameter\n",
    "    oov_token = '<OOV>'\n",
    "    vocab_size = 10000\n",
    "    \n",
    "    #inisiate the tokenizer class\n",
    "    tokenizer = Tokenizer(oov_token=oov_token, num_words=vocab_size)\n",
    "    #fit tokenizer to text\n",
    "    tokenizer.fit_on_texts(sentences)\n",
    "    \n",
    "    return tokenizer"
   ]
  },
  {
   "cell_type": "code",
   "execution_count": 26,
   "id": "9f6a1a8d",
   "metadata": {},
   "outputs": [],
   "source": [
    "dataset_token = fit_tokenizer(data_sentences)"
   ]
  },
  {
   "cell_type": "code",
   "execution_count": 28,
   "id": "90e5da0c",
   "metadata": {},
   "outputs": [],
   "source": [
    "dataset_word_index = dataset_token.word_index"
   ]
  },
  {
   "cell_type": "code",
   "execution_count": null,
   "id": "88b9e5ee",
   "metadata": {},
   "outputs": [],
   "source": [
    "# len(train_word_index)"
   ]
  },
  {
   "cell_type": "markdown",
   "id": "8400fdf8",
   "metadata": {},
   "source": [
    "## Splitting data"
   ]
  },
  {
   "cell_type": "code",
   "execution_count": 32,
   "id": "2ea6dfce",
   "metadata": {},
   "outputs": [],
   "source": [
    "#data splitting\n",
    "from sklearn.model_selection import train_test_split\n",
    "X_train, X_test, y_train, y_test = train_test_split(dataset_sentences,\n",
    "                                                      dataset_labels,\n",
    "                                                      test_size=0.3,\n",
    "                                                      stratify = dataset_labels,\n",
    "                                                      random_state=0)"
   ]
  },
  {
   "cell_type": "code",
   "execution_count": 31,
   "id": "dd77c14d",
   "metadata": {},
   "outputs": [],
   "source": [
    "def generate_pad_seq(tokenizer, sentences):\n",
    "    #parameter\n",
    "    maxlen = 1500\n",
    "    truncating = 'post'\n",
    "    \n",
    "    #algoritma\n",
    "    sequences = tokenizer.texts_to_sequences(sentences)\n",
    "    padded = pad_sequences(sequences, maxlen=maxlen, truncating=truncating)\n",
    "    \n",
    "    return padded"
   ]
  },
  {
   "cell_type": "code",
   "execution_count": 34,
   "id": "ae6bf7b5",
   "metadata": {},
   "outputs": [],
   "source": [
    "X_train = generate_pad_seq(dataset_token, X_train)\n",
    "X_test = generate_pad_seq(dataset_token, X_test)"
   ]
  },
  {
   "cell_type": "code",
   "execution_count": 35,
   "id": "73de05e1",
   "metadata": {},
   "outputs": [
    {
     "data": {
      "text/plain": [
       "1490"
      ]
     },
     "execution_count": 35,
     "metadata": {},
     "output_type": "execute_result"
    }
   ],
   "source": [
    "len(X_train) + len(X_test)"
   ]
  },
  {
   "cell_type": "code",
   "execution_count": 52,
   "id": "0d52ddf7",
   "metadata": {},
   "outputs": [],
   "source": [
    "#Encode the category label\n",
    "from sklearn.preprocessing import LabelEncoder\n",
    "import numpy as np\n",
    "import tensorflow as tf\n",
    "\n",
    "le = LabelEncoder()\n",
    "\n",
    "train_labels = le.fit_transform(y_train)\n",
    "train_labels = np.asarray(tf.keras.utils.to_categorical(train_labels))\n",
    "test_labels = le.fit_transform(y_test)\n",
    "test_labels = np.asarray(tf.keras.utils.to_categorical(test_labels))\n",
    "# test_labels\n",
    "# train_labels"
   ]
  },
  {
   "cell_type": "code",
   "execution_count": 53,
   "id": "bf30e2a0",
   "metadata": {},
   "outputs": [],
   "source": [
    "#Build tensorflow dataset from train and test data\n",
    "train_ds = tf.data.Dataset.from_tensor_slices((X_train,train_labels))\n",
    "test_ds = tf.data.Dataset.from_tensor_slices((X_test,test_labels))"
   ]
  },
  {
   "cell_type": "code",
   "execution_count": 56,
   "id": "6c28de4c",
   "metadata": {},
   "outputs": [
    {
     "name": "stdout",
     "output_type": "stream",
     "text": [
      "======Train dataset ====\n",
      "Sentence: tf.Tensor([   0    0    0 ... 1107  802 4067], shape=(1500,), dtype=int32) \n",
      "Label: tf.Tensor([0. 0. 0. 1. 0.], shape=(5,), dtype=float32)\n",
      "Sentence: tf.Tensor([   0    0    0 ... 2456    1  701], shape=(1500,), dtype=int32) \n",
      "Label: tf.Tensor([1. 0. 0. 0. 0.], shape=(5,), dtype=float32)\n",
      "Sentence: tf.Tensor([   0    0    0 ... 1422  313 1729], shape=(1500,), dtype=int32) \n",
      "Label: tf.Tensor([0. 0. 1. 0. 0.], shape=(5,), dtype=float32)\n"
     ]
    }
   ],
   "source": [
    "#Mengecek bagaimana bentuk datanya\n",
    "count =0\n",
    "print('======Train dataset ====')\n",
    "for value,label in train_ds:\n",
    "    count += 1\n",
    "    print('Sentence:', value, '\\nLabel:', label)\n",
    "    if count==3:\n",
    "        break\n",
    "count =0"
   ]
  },
  {
   "cell_type": "code",
   "execution_count": null,
   "id": "17d16bfa",
   "metadata": {},
   "outputs": [],
   "source": []
  },
  {
   "cell_type": "code",
   "execution_count": null,
   "id": "e7139d79",
   "metadata": {},
   "outputs": [],
   "source": [
    "# train_sequences, train_padded = generate_pad_seq(train_token, train_sentences)"
   ]
  },
  {
   "cell_type": "code",
   "execution_count": null,
   "id": "2aae3c4a",
   "metadata": {},
   "outputs": [],
   "source": [
    "# test_sequences, tes_padded = generate_pad_seq(train_token, test_sentences)"
   ]
  },
  {
   "cell_type": "code",
   "execution_count": null,
   "id": "cd40a3c0",
   "metadata": {},
   "outputs": [],
   "source": [
    "# train_sequences[0]\n",
    "# len(train_sequences[0])\n",
    "# len(train_sentences[0].split())\n",
    "# len(train_padded[0])\n"
   ]
  },
  {
   "cell_type": "code",
   "execution_count": null,
   "id": "77a28f46",
   "metadata": {},
   "outputs": [],
   "source": []
  }
 ],
 "metadata": {
  "kernelspec": {
   "display_name": "Python 3",
   "language": "python",
   "name": "python3"
  },
  "language_info": {
   "codemirror_mode": {
    "name": "ipython",
    "version": 3
   },
   "file_extension": ".py",
   "mimetype": "text/x-python",
   "name": "python",
   "nbconvert_exporter": "python",
   "pygments_lexer": "ipython3",
   "version": "3.8.8"
  }
 },
 "nbformat": 4,
 "nbformat_minor": 5
}
