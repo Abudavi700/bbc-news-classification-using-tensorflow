{
 "cells": [
  {
   "cell_type": "code",
   "execution_count": null,
   "id": "a9c5b6f2",
   "metadata": {},
   "outputs": [],
   "source": [
    "#import semua library yang dibutuhkan\n",
    "import csv\n",
    "from tensorflow.keras.preprocessing.text import Tokenizer\n",
    "from tensorflow.keras.preprocessing.sequence import pad_sequences"
   ]
  },
  {
   "cell_type": "code",
   "execution_count": null,
   "id": "b92dca80",
   "metadata": {},
   "outputs": [],
   "source": [
    "import pandas as pd\n",
    "df = pd.read_csv('Dataset/BBC News Train.csv')\n",
    "df"
   ]
  },
  {
   "cell_type": "code",
   "execution_count": null,
   "id": "c54bf345",
   "metadata": {},
   "outputs": [],
   "source": [
    "df.info()"
   ]
  },
  {
   "cell_type": "code",
   "execution_count": null,
   "id": "d5f93e37",
   "metadata": {},
   "outputs": [],
   "source": [
    "#Memahami bentuk data\n",
    "file = 'Dataset/BBC News Train.csv'\n",
    "test_file = 'Dataset/BBC News Test.csv'\n",
    "with open(file) as csvfile:\n",
    "    print('Berikut adalah nama-nama kolom:\\n\\n', csvfile.readline())\n",
    "    print('konten file adalah sebagai berikut:\\n\\n', csvfile.readline())"
   ]
  },
  {
   "cell_type": "code",
   "execution_count": null,
   "id": "f7fce780",
   "metadata": {},
   "outputs": [],
   "source": [
    "#Buat fungsi untuk membuang semua stopping words, yaitu kata2 yang tidak memiliki makna berarti (general)\n",
    "def stopwords_remove(sentence):\n",
    "    stopwords = [\"s\", \"mr\", \"ms\", \"a\", \"about\", \"above\", \"after\", \"again\", \"against\", \"all\", \"am\", \"an\", \"and\", \"any\", \"are\", \"as\", \"at\", \"be\", \"because\", \"been\", \"before\", \"being\", \"below\", \"between\", \"both\", \"but\", \"by\", \"could\", \"did\", \"do\", \"does\", \"doing\", \"down\", \"during\", \"each\", \"few\", \"for\", \"from\", \"further\", \"had\", \"has\", \"have\", \"having\", \"he\", \"he'd\", \"he'll\", \"he's\", \"her\", \"here\", \"here's\", \"hers\", \"herself\", \"him\", \"himself\", \"his\", \"how\", \"how's\", \"i\", \"i'd\", \"i'll\", \"i'm\", \"i've\", \"if\", \"in\", \"into\", \"is\", \"it\", \"it's\", \"its\", \"itself\", \"let's\", \"me\", \"more\", \"most\", \"my\", \"myself\", \"nor\", \"of\", \"on\", \"once\", \"only\", \"or\", \"other\", \"ought\", \"our\", \"ours\", \"ourselves\", \"out\", \"over\", \"own\", \"same\", \"she\", \"she'd\", \"she'll\", \"she's\", \"should\", \"so\", \"some\", \"such\", \"than\", \"that\", \"that's\", \"the\", \"their\", \"theirs\", \"them\", \"themselves\", \"then\", \"there\", \"there's\", \"these\", \"they\", \"they'd\", \"they'll\", \"they're\", \"they've\", \"this\", \"those\", \"through\", \"to\", \"too\", \"under\", \"until\", \"up\", \"very\", \"was\", \"we\", \"we'd\", \"we'll\", \"we're\", \"we've\", \"were\", \"what\", \"what's\", \"when\", \"when's\", \"where\", \"where's\", \"which\", \"while\", \"who\", \"who's\", \"whom\", \"why\", \"why's\", \"with\", \"would\", \"you\", \"you'd\", \"you'll\", \"you're\", \"you've\", \"your\", \"yours\", \"yourself\", \"yourselves\" ]\n",
    "    sentences = []\n",
    "    for word in sentence.lower().split():\n",
    "        if word.strip('.') in stopwords:\n",
    "            pass\n",
    "        else:\n",
    "            sentences.append(word.strip('.'))\n",
    "    sentences = ' '.join(sentences)\n",
    "    return sentences   \n",
    "        "
   ]
  },
  {
   "cell_type": "code",
   "execution_count": null,
   "id": "36299b1f",
   "metadata": {},
   "outputs": [],
   "source": [
    "#Buang semua stopping words, yaitu kata2 yang tidak memiliki makna berarti (general)\n",
    "#dan ambil kolom berita('Text'), dan kategorinya ('Category')\n",
    "def parsing_file(file):\n",
    "    sentences = []\n",
    "    labels = []\n",
    "    \n",
    "    with open(file) as csvfile:\n",
    "        next(csvfile)\n",
    "        csvfile = csv.reader(csvfile, delimiter=',')\n",
    "        for row in csvfile:\n",
    "            row[1] = stopwords_remove(row[1])\n",
    "            sentences.append(row[1])\n",
    "            labels.append(row[2])\n",
    "        \n",
    "    return sentences, labels"
   ]
  },
  {
   "cell_type": "code",
   "execution_count": null,
   "id": "5817ce87",
   "metadata": {},
   "outputs": [],
   "source": [
    "train_sentences, train_labels = parsing_file(train_file)\n",
    "len(train_sentences[0])"
   ]
  },
  {
   "cell_type": "code",
   "execution_count": null,
   "id": "d89acc83",
   "metadata": {},
   "outputs": [],
   "source": [
    "test_sentences, test_labels = parsing_file(test_file)\n",
    "len(test_sentences)"
   ]
  },
  {
   "cell_type": "code",
   "execution_count": null,
   "id": "3018798a",
   "metadata": {},
   "outputs": [],
   "source": [
    "# len(train_sentences[1].split())\n",
    "# train_labels[:5]\n",
    "# len(train_sentences)"
   ]
  },
  {
   "cell_type": "markdown",
   "id": "456b75bf",
   "metadata": {},
   "source": [
    "## Tokenizer"
   ]
  },
  {
   "cell_type": "code",
   "execution_count": null,
   "id": "9dfe1f9e",
   "metadata": {},
   "outputs": [],
   "source": [
    "#Build function for tokenize sentences\n",
    "def fit_tokenizer(sentences):\n",
    "    #parameter\n",
    "    oov_token = '<OOV>'\n",
    "    vocab_size = 10000\n",
    "    \n",
    "    #inisiate the tokenizer class\n",
    "    tokenizer = Tokenizer(oov_token=oov_token, num_words=vocab_size)\n",
    "    #fit tokenizer to text\n",
    "    tokenizer.fit_on_texts(sentences)\n",
    "    \n",
    "    return tokenizer"
   ]
  },
  {
   "cell_type": "code",
   "execution_count": null,
   "id": "9f6a1a8d",
   "metadata": {},
   "outputs": [],
   "source": [
    "train_token = fit_tokenizer(train_sentences)"
   ]
  },
  {
   "cell_type": "code",
   "execution_count": null,
   "id": "90e5da0c",
   "metadata": {},
   "outputs": [],
   "source": [
    "train_word_index = train_token.word_index"
   ]
  },
  {
   "cell_type": "code",
   "execution_count": null,
   "id": "88b9e5ee",
   "metadata": {},
   "outputs": [],
   "source": [
    "len(train_word_index)"
   ]
  },
  {
   "cell_type": "code",
   "execution_count": null,
   "id": "dd77c14d",
   "metadata": {},
   "outputs": [],
   "source": [
    "def generate_pad_seq(tokenizer, sentences):\n",
    "    #parameter\n",
    "    maxlen = 1500\n",
    "    truncating = 'post'\n",
    "    \n",
    "    #algoritma\n",
    "    sequences = tokenizer.texts_to_sequences(sentences)\n",
    "    padded = pad_sequences(sequences, maxlen=maxlen, truncating=truncating)\n",
    "    \n",
    "    return sequences, padded"
   ]
  },
  {
   "cell_type": "code",
   "execution_count": null,
   "id": "e7139d79",
   "metadata": {},
   "outputs": [],
   "source": [
    "train_sequences, train_padded = generate_pad_seq(train_token, train_sentences)"
   ]
  },
  {
   "cell_type": "code",
   "execution_count": null,
   "id": "2aae3c4a",
   "metadata": {},
   "outputs": [],
   "source": [
    "test_sequences, tes_padded = generate_pad_seq(train_token, test_sentences)"
   ]
  },
  {
   "cell_type": "code",
   "execution_count": null,
   "id": "cd40a3c0",
   "metadata": {},
   "outputs": [],
   "source": [
    "# train_sequences[0]\n",
    "# len(train_sequences[0])\n",
    "# len(train_sentences[0].split())\n",
    "# len(train_padded[0])\n"
   ]
  },
  {
   "cell_type": "code",
   "execution_count": null,
   "id": "77a28f46",
   "metadata": {},
   "outputs": [],
   "source": []
  }
 ],
 "metadata": {
  "kernelspec": {
   "display_name": "Python 3",
   "language": "python",
   "name": "python3"
  },
  "language_info": {
   "codemirror_mode": {
    "name": "ipython",
    "version": 3
   },
   "file_extension": ".py",
   "mimetype": "text/x-python",
   "name": "python",
   "nbconvert_exporter": "python",
   "pygments_lexer": "ipython3",
   "version": "3.8.8"
  }
 },
 "nbformat": 4,
 "nbformat_minor": 5
}
