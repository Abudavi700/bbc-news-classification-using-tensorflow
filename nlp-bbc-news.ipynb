{
 "cells": [
  {
   "cell_type": "code",
   "execution_count": 85,
   "id": "a9c5b6f2",
   "metadata": {},
   "outputs": [],
   "source": [
    "#import semua library yang dibutuhkan\n",
    "import csv\n",
    "from tensorflow.keras.preprocessing.text import Tokenizer\n",
    "from tensorflow.keras.preprocessing.sequence import pad_sequences"
   ]
  },
  {
   "cell_type": "code",
   "execution_count": 86,
   "id": "b92dca80",
   "metadata": {},
   "outputs": [
    {
     "data": {
      "text/html": [
       "<div>\n",
       "<style scoped>\n",
       "    .dataframe tbody tr th:only-of-type {\n",
       "        vertical-align: middle;\n",
       "    }\n",
       "\n",
       "    .dataframe tbody tr th {\n",
       "        vertical-align: top;\n",
       "    }\n",
       "\n",
       "    .dataframe thead th {\n",
       "        text-align: right;\n",
       "    }\n",
       "</style>\n",
       "<table border=\"1\" class=\"dataframe\">\n",
       "  <thead>\n",
       "    <tr style=\"text-align: right;\">\n",
       "      <th></th>\n",
       "      <th>ArticleId</th>\n",
       "      <th>Text</th>\n",
       "      <th>Category</th>\n",
       "    </tr>\n",
       "  </thead>\n",
       "  <tbody>\n",
       "    <tr>\n",
       "      <th>0</th>\n",
       "      <td>1833</td>\n",
       "      <td>worldcom ex-boss launches defence lawyers defe...</td>\n",
       "      <td>business</td>\n",
       "    </tr>\n",
       "    <tr>\n",
       "      <th>1</th>\n",
       "      <td>154</td>\n",
       "      <td>german business confidence slides german busin...</td>\n",
       "      <td>business</td>\n",
       "    </tr>\n",
       "    <tr>\n",
       "      <th>2</th>\n",
       "      <td>1101</td>\n",
       "      <td>bbc poll indicates economic gloom citizens in ...</td>\n",
       "      <td>business</td>\n",
       "    </tr>\n",
       "    <tr>\n",
       "      <th>3</th>\n",
       "      <td>1976</td>\n",
       "      <td>lifestyle  governs mobile choice  faster  bett...</td>\n",
       "      <td>tech</td>\n",
       "    </tr>\n",
       "    <tr>\n",
       "      <th>4</th>\n",
       "      <td>917</td>\n",
       "      <td>enron bosses in $168m payout eighteen former e...</td>\n",
       "      <td>business</td>\n",
       "    </tr>\n",
       "    <tr>\n",
       "      <th>...</th>\n",
       "      <td>...</td>\n",
       "      <td>...</td>\n",
       "      <td>...</td>\n",
       "    </tr>\n",
       "    <tr>\n",
       "      <th>1485</th>\n",
       "      <td>857</td>\n",
       "      <td>double eviction from big brother model caprice...</td>\n",
       "      <td>entertainment</td>\n",
       "    </tr>\n",
       "    <tr>\n",
       "      <th>1486</th>\n",
       "      <td>325</td>\n",
       "      <td>dj double act revamp chart show dj duo jk and ...</td>\n",
       "      <td>entertainment</td>\n",
       "    </tr>\n",
       "    <tr>\n",
       "      <th>1487</th>\n",
       "      <td>1590</td>\n",
       "      <td>weak dollar hits reuters revenues at media gro...</td>\n",
       "      <td>business</td>\n",
       "    </tr>\n",
       "    <tr>\n",
       "      <th>1488</th>\n",
       "      <td>1587</td>\n",
       "      <td>apple ipod family expands market apple has exp...</td>\n",
       "      <td>tech</td>\n",
       "    </tr>\n",
       "    <tr>\n",
       "      <th>1489</th>\n",
       "      <td>538</td>\n",
       "      <td>santy worm makes unwelcome visit thousands of ...</td>\n",
       "      <td>tech</td>\n",
       "    </tr>\n",
       "  </tbody>\n",
       "</table>\n",
       "<p>1490 rows × 3 columns</p>\n",
       "</div>"
      ],
      "text/plain": [
       "      ArticleId                                               Text  \\\n",
       "0          1833  worldcom ex-boss launches defence lawyers defe...   \n",
       "1           154  german business confidence slides german busin...   \n",
       "2          1101  bbc poll indicates economic gloom citizens in ...   \n",
       "3          1976  lifestyle  governs mobile choice  faster  bett...   \n",
       "4           917  enron bosses in $168m payout eighteen former e...   \n",
       "...         ...                                                ...   \n",
       "1485        857  double eviction from big brother model caprice...   \n",
       "1486        325  dj double act revamp chart show dj duo jk and ...   \n",
       "1487       1590  weak dollar hits reuters revenues at media gro...   \n",
       "1488       1587  apple ipod family expands market apple has exp...   \n",
       "1489        538  santy worm makes unwelcome visit thousands of ...   \n",
       "\n",
       "           Category  \n",
       "0          business  \n",
       "1          business  \n",
       "2          business  \n",
       "3              tech  \n",
       "4          business  \n",
       "...             ...  \n",
       "1485  entertainment  \n",
       "1486  entertainment  \n",
       "1487       business  \n",
       "1488           tech  \n",
       "1489           tech  \n",
       "\n",
       "[1490 rows x 3 columns]"
      ]
     },
     "execution_count": 86,
     "metadata": {},
     "output_type": "execute_result"
    }
   ],
   "source": [
    "import pandas as pd\n",
    "df = pd.read_csv('Dataset/BBC News Train.csv')\n",
    "df"
   ]
  },
  {
   "cell_type": "code",
   "execution_count": 87,
   "id": "c54bf345",
   "metadata": {},
   "outputs": [
    {
     "name": "stdout",
     "output_type": "stream",
     "text": [
      "<class 'pandas.core.frame.DataFrame'>\n",
      "RangeIndex: 1490 entries, 0 to 1489\n",
      "Data columns (total 3 columns):\n",
      " #   Column     Non-Null Count  Dtype \n",
      "---  ------     --------------  ----- \n",
      " 0   ArticleId  1490 non-null   int64 \n",
      " 1   Text       1490 non-null   object\n",
      " 2   Category   1490 non-null   object\n",
      "dtypes: int64(1), object(2)\n",
      "memory usage: 35.0+ KB\n"
     ]
    }
   ],
   "source": [
    "df.info()"
   ]
  },
  {
   "cell_type": "code",
   "execution_count": 88,
   "id": "d5f93e37",
   "metadata": {},
   "outputs": [
    {
     "name": "stdout",
     "output_type": "stream",
     "text": [
      "Berikut adalah nama-nama kolom:\n",
      "\n",
      " ArticleId,Text,Category\n",
      "\n",
      "konten file adalah sebagai berikut:\n",
      "\n",
      " 1833,worldcom ex-boss launches defence lawyers defending former worldcom chief bernie ebbers against a battery of fraud charges have called a company whistleblower as their first witness.  cynthia cooper  worldcom s ex-head of internal accounting  alerted directors to irregular accounting practices at the us telecoms giant in 2002. her warnings led to the collapse of the firm following the discovery of an $11bn (Â£5.7bn) accounting fraud. mr ebbers has pleaded not guilty to charges of fraud and conspiracy.  prosecution lawyers have argued that mr ebbers orchestrated a series of accounting tricks at worldcom  ordering employees to hide expenses and inflate revenues to meet wall street earnings estimates. but ms cooper  who now runs her own consulting business  told a jury in new york on wednesday that external auditors arthur andersen had approved worldcom s accounting in early 2001 and 2002. she said andersen had given a  green light  to the procedures and practices used by worldcom. mr ebber s lawyers have said he was unaware of the fraud  arguing that auditors did not alert him to any problems.  ms cooper also said that during shareholder meetings mr ebbers often passed over technical questions to the company s finance chief  giving only  brief  answers himself. the prosecution s star witness  former worldcom financial chief scott sullivan  has said that mr ebbers ordered accounting adjustments at the firm  telling him to  hit our books . however  ms cooper said mr sullivan had not mentioned  anything uncomfortable  about worldcom s accounting during a 2001 audit committee meeting. mr ebbers could face a jail sentence of 85 years if convicted of all the charges he is facing. worldcom emerged from bankruptcy protection in 2004  and is now known as mci. last week  mci agreed to a buyout by verizon communications in a deal valued at $6.75bn.,business\n",
      "\n"
     ]
    }
   ],
   "source": [
    "#Memahami bentuk data\n",
    "dataset = 'Dataset/BBC News Train.csv'\n",
    "test_file = 'Dataset/BBC News Test.csv'\n",
    "with open(dataset) as csvfile:\n",
    "    print('Berikut adalah nama-nama kolom:\\n\\n', csvfile.readline())\n",
    "    print('konten file adalah sebagai berikut:\\n\\n', csvfile.readline())"
   ]
  },
  {
   "cell_type": "code",
   "execution_count": 89,
   "id": "f7fce780",
   "metadata": {},
   "outputs": [],
   "source": [
    "#Buat fungsi untuk membuang semua stopping words, yaitu kata2 yang tidak memiliki makna berarti (general)\n",
    "def stopwords_remove(sentence):\n",
    "    stopwords = [\"s\", \"mr\", \"ms\", \"a\", \"about\", \"above\", \"after\", \"again\", \"against\", \"all\", \"am\", \"an\", \"and\", \"any\", \"are\", \"as\", \"at\", \"be\", \"because\", \"been\", \"before\", \"being\", \"below\", \"between\", \"both\", \"but\", \"by\", \"could\", \"did\", \"do\", \"does\", \"doing\", \"down\", \"during\", \"each\", \"few\", \"for\", \"from\", \"further\", \"had\", \"has\", \"have\", \"having\", \"he\", \"he'd\", \"he'll\", \"he's\", \"her\", \"here\", \"here's\", \"hers\", \"herself\", \"him\", \"himself\", \"his\", \"how\", \"how's\", \"i\", \"i'd\", \"i'll\", \"i'm\", \"i've\", \"if\", \"in\", \"into\", \"is\", \"it\", \"it's\", \"its\", \"itself\", \"let's\", \"me\", \"more\", \"most\", \"my\", \"myself\", \"nor\", \"of\", \"on\", \"once\", \"only\", \"or\", \"other\", \"ought\", \"our\", \"ours\", \"ourselves\", \"out\", \"over\", \"own\", \"same\", \"she\", \"she'd\", \"she'll\", \"she's\", \"should\", \"so\", \"some\", \"such\", \"than\", \"that\", \"that's\", \"the\", \"their\", \"theirs\", \"them\", \"themselves\", \"then\", \"there\", \"there's\", \"these\", \"they\", \"they'd\", \"they'll\", \"they're\", \"they've\", \"this\", \"those\", \"through\", \"to\", \"too\", \"under\", \"until\", \"up\", \"very\", \"was\", \"we\", \"we'd\", \"we'll\", \"we're\", \"we've\", \"were\", \"what\", \"what's\", \"when\", \"when's\", \"where\", \"where's\", \"which\", \"while\", \"who\", \"who's\", \"whom\", \"why\", \"why's\", \"with\", \"would\", \"you\", \"you'd\", \"you'll\", \"you're\", \"you've\", \"your\", \"yours\", \"yourself\", \"yourselves\" ]\n",
    "    sentences = []\n",
    "    for word in sentence.lower().split():\n",
    "        if word.strip('.') in stopwords:\n",
    "            pass\n",
    "        else:\n",
    "            sentences.append(word.strip('.'))\n",
    "    sentences = ' '.join(sentences)\n",
    "    return sentences   \n",
    "        "
   ]
  },
  {
   "cell_type": "code",
   "execution_count": 90,
   "id": "36299b1f",
   "metadata": {},
   "outputs": [],
   "source": [
    "#Buang semua stopping words, yaitu kata2 yang tidak memiliki makna berarti (general)\n",
    "#dan ambil kolom berita('Text'), dan kategorinya ('Category')\n",
    "def parsing_file(file):\n",
    "    sentences = []\n",
    "    labels = []\n",
    "    \n",
    "    with open(file) as csvfile:\n",
    "        next(csvfile)\n",
    "        csvfile = csv.reader(csvfile, delimiter=',')\n",
    "        for row in csvfile:\n",
    "            row[1] = stopwords_remove(row[1])\n",
    "            sentences.append(row[1])\n",
    "            labels.append(row[2])\n",
    "        \n",
    "    return sentences, labels"
   ]
  },
  {
   "cell_type": "code",
   "execution_count": 91,
   "id": "5817ce87",
   "metadata": {},
   "outputs": [
    {
     "data": {
      "text/plain": [
       "1490"
      ]
     },
     "execution_count": 91,
     "metadata": {},
     "output_type": "execute_result"
    }
   ],
   "source": [
    "dataset_sentences, dataset_labels = parsing_file(dataset)\n",
    "len(dataset_sentences)"
   ]
  },
  {
   "cell_type": "code",
   "execution_count": 92,
   "id": "ee11ef93",
   "metadata": {},
   "outputs": [],
   "source": [
    "#Preprocess the test data\n",
    "test_id = []\n",
    "test_sentences = []\n",
    "\n",
    "with open(test_file) as csvfile:\n",
    "        next(csvfile)\n",
    "        csvfile = csv.reader(csvfile, delimiter=',')\n",
    "        for row in csvfile:\n",
    "            row[1] = stopwords_remove(row[1])\n",
    "            test_id.append(row[0])\n",
    "            test_sentences.append(row[1])"
   ]
  },
  {
   "cell_type": "code",
   "execution_count": 93,
   "id": "f86d31bd",
   "metadata": {},
   "outputs": [
    {
     "data": {
      "text/plain": [
       "735"
      ]
     },
     "execution_count": 93,
     "metadata": {},
     "output_type": "execute_result"
    }
   ],
   "source": [
    "len(test_sentences)\n",
    "len(test_id)"
   ]
  },
  {
   "cell_type": "code",
   "execution_count": 94,
   "id": "3018798a",
   "metadata": {},
   "outputs": [],
   "source": [
    "# len(train_sentences[1].split())\n",
    "# train_labels[:5]\n",
    "# len(train_sentences)"
   ]
  },
  {
   "cell_type": "markdown",
   "id": "456b75bf",
   "metadata": {},
   "source": [
    "## Tokenizer"
   ]
  },
  {
   "cell_type": "code",
   "execution_count": 95,
   "id": "9dfe1f9e",
   "metadata": {},
   "outputs": [],
   "source": [
    "#parameter\n",
    "oov_token = '<OOV>'\n",
    "vocab_size = 10000\n",
    "\n",
    "#Build function for tokenize sentences\n",
    "def fit_tokenizer(sentences):\n",
    "    #inisiate the tokenizer class\n",
    "    tokenizer = Tokenizer(oov_token=oov_token, num_words=vocab_size)\n",
    "    #fit tokenizer to text\n",
    "    tokenizer.fit_on_texts(sentences)\n",
    "    \n",
    "    return tokenizer"
   ]
  },
  {
   "cell_type": "code",
   "execution_count": 96,
   "id": "9f6a1a8d",
   "metadata": {},
   "outputs": [],
   "source": [
    "dataset_token = fit_tokenizer(dataset_sentences)"
   ]
  },
  {
   "cell_type": "code",
   "execution_count": 97,
   "id": "90e5da0c",
   "metadata": {},
   "outputs": [],
   "source": [
    "dataset_word_index = dataset_token.word_index"
   ]
  },
  {
   "cell_type": "code",
   "execution_count": 98,
   "id": "88b9e5ee",
   "metadata": {},
   "outputs": [],
   "source": [
    "# len(train_word_index)"
   ]
  },
  {
   "cell_type": "markdown",
   "id": "154d2bc4",
   "metadata": {},
   "source": [
    "## Splitting data"
   ]
  },
  {
   "cell_type": "code",
   "execution_count": 115,
   "id": "45c10c43",
   "metadata": {},
   "outputs": [],
   "source": [
    "#data splitting\n",
    "from sklearn.model_selection import train_test_split\n",
    "X_train, X_test, y_train, y_test = train_test_split(dataset_sentences,\n",
    "                                                    dataset_labels,\n",
    "                                                    test_size=0.3,\n",
    "                                                    stratify = dataset_labels,\n",
    "                                                    random_state=0)"
   ]
  },
  {
   "cell_type": "code",
   "execution_count": 100,
   "id": "dd77c14d",
   "metadata": {},
   "outputs": [],
   "source": [
    "#parameter\n",
    "maxlen = 1500\n",
    "truncating = 'post'\n",
    "\n",
    "def generate_pad_seq(tokenizer, sentences):    \n",
    "    #algoritma\n",
    "    sequences = tokenizer.texts_to_sequences(sentences)\n",
    "    padded = pad_sequences(sequences, maxlen=maxlen, truncating=truncating)\n",
    "    \n",
    "    return padded"
   ]
  },
  {
   "cell_type": "code",
   "execution_count": 118,
   "id": "c33f5aa0",
   "metadata": {},
   "outputs": [],
   "source": [
    "X_train = generate_pad_seq(dataset_token, X_train)\n",
    "# X_test = generate_pad_seq(dataset_token, X_test)\n",
    " \n",
    "test_sequences = dataset_token.texts_to_sequences(X_test)\n",
    "test_padded = pad_sequences(test_sequences, maxlen=maxlen)\n",
    "X_test = test_padded"
   ]
  },
  {
   "cell_type": "code",
   "execution_count": 119,
   "id": "efe595af",
   "metadata": {},
   "outputs": [
    {
     "data": {
      "text/plain": [
       "numpy.ndarray"
      ]
     },
     "execution_count": 119,
     "metadata": {},
     "output_type": "execute_result"
    }
   ],
   "source": [
    "type(train_labels)"
   ]
  },
  {
   "cell_type": "code",
   "execution_count": 120,
   "id": "b1c13b81",
   "metadata": {},
   "outputs": [
    {
     "data": {
      "text/plain": [
       "array([[   0,    0,    0, ..., 1107,  802, 4067],\n",
       "       [   0,    0,    0, ..., 2456,    1,  701],\n",
       "       [   0,    0,    0, ..., 1422,  313, 1729],\n",
       "       ...,\n",
       "       [   0,    0,    0, ..., 1361,   68,  779],\n",
       "       [   0,    0,    0, ...,  708,  310,  160],\n",
       "       [   0,    0,    0, ..., 2450, 8036,    1]])"
      ]
     },
     "execution_count": 120,
     "metadata": {},
     "output_type": "execute_result"
    }
   ],
   "source": [
    "X_train"
   ]
  },
  {
   "cell_type": "code",
   "execution_count": 103,
   "id": "c3e0ab2c",
   "metadata": {},
   "outputs": [
    {
     "data": {
      "text/plain": [
       "1490"
      ]
     },
     "execution_count": 103,
     "metadata": {},
     "output_type": "execute_result"
    }
   ],
   "source": [
    "len(X_train) + len(X_test)"
   ]
  },
  {
   "cell_type": "code",
   "execution_count": 121,
   "id": "8fde9e68",
   "metadata": {},
   "outputs": [],
   "source": [
    "#Encode the category label\n",
    "from sklearn.preprocessing import LabelEncoder\n",
    "import numpy as np\n",
    "import tensorflow as tf\n",
    "\n",
    "le = LabelEncoder()\n",
    "\n",
    "train_labels = le.fit_transform(y_train)\n",
    "train_labels = np.array(tf.keras.utils.to_categorical(train_labels))\n",
    "test_labels = le.fit_transform(y_test)\n",
    "test_labels = np.array(tf.keras.utils.to_categorical(test_labels))"
   ]
  },
  {
   "cell_type": "code",
   "execution_count": 123,
   "id": "9faca59e",
   "metadata": {},
   "outputs": [
    {
     "data": {
      "text/plain": [
       "(1043, 5)"
      ]
     },
     "execution_count": 123,
     "metadata": {},
     "output_type": "execute_result"
    }
   ],
   "source": [
    "train_labels.shape"
   ]
  },
  {
   "cell_type": "code",
   "execution_count": 105,
   "id": "c5d32d5e",
   "metadata": {},
   "outputs": [],
   "source": [
    "#Build tensorflow dataset from train and test data\n",
    "train_ds = tf.data.Dataset.from_tensor_slices((X_train,train_labels))\n",
    "test_ds = tf.data.Dataset.from_tensor_slices((X_test,test_labels))"
   ]
  },
  {
   "cell_type": "code",
   "execution_count": 106,
   "id": "68935576",
   "metadata": {},
   "outputs": [
    {
     "name": "stdout",
     "output_type": "stream",
     "text": [
      "======Train dataset ====\n",
      "Sentence: tf.Tensor([   0    0    0 ... 1107  802 4067], shape=(1500,), dtype=int32) \n",
      "Label: tf.Tensor([0. 0. 0. 1. 0.], shape=(5,), dtype=float32)\n",
      "Sentence: tf.Tensor([   0    0    0 ... 2456    1  701], shape=(1500,), dtype=int32) \n",
      "Label: tf.Tensor([1. 0. 0. 0. 0.], shape=(5,), dtype=float32)\n",
      "Sentence: tf.Tensor([   0    0    0 ... 1422  313 1729], shape=(1500,), dtype=int32) \n",
      "Label: tf.Tensor([0. 0. 1. 0. 0.], shape=(5,), dtype=float32)\n"
     ]
    }
   ],
   "source": [
    "#Mengecek bagaimana bentuk datanya\n",
    "# count =0\n",
    "# print('======Train dataset ====')\n",
    "# for value,label in train_ds:\n",
    "#     count += 1\n",
    "#     print('Sentence:', value, '\\nLabel:', label)\n",
    "#     if count==3:\n",
    "#         break\n",
    "# count =0"
   ]
  },
  {
   "cell_type": "markdown",
   "id": "4f213aad",
   "metadata": {},
   "source": [
    "## Building Model"
   ]
  },
  {
   "cell_type": "markdown",
   "id": "3846dbef",
   "metadata": {},
   "source": [
    "### Plot utility\n",
    "Define the function to visualize the accuracy"
   ]
  },
  {
   "cell_type": "code",
   "execution_count": 107,
   "id": "620d4997",
   "metadata": {},
   "outputs": [],
   "source": [
    "import matplotlib.pyplot as plt\n",
    "\n",
    "# Plot Utility\n",
    "def plot_graphs(history, string):\n",
    "  plt.plot(history.history[string])\n",
    "  plt.plot(history.history['val_'+string])\n",
    "  plt.xlabel(\"Epochs\")\n",
    "  plt.ylabel(string)\n",
    "  plt.legend([string, 'val_'+string])\n",
    "  plt.show()"
   ]
  },
  {
   "cell_type": "markdown",
   "id": "11b430bb",
   "metadata": {},
   "source": [
    "### Defining the model"
   ]
  },
  {
   "cell_type": "code",
   "execution_count": 126,
   "id": "a9bf8914",
   "metadata": {},
   "outputs": [
    {
     "name": "stdout",
     "output_type": "stream",
     "text": [
      "Model: \"sequential_3\"\n",
      "_________________________________________________________________\n",
      " Layer (type)                Output Shape              Param #   \n",
      "=================================================================\n",
      " embedding_3 (Embedding)     (None, 1500, 16)          160000    \n",
      "                                                                 \n",
      " bidirectional_3 (Bidirectio  (None, 64)               12544     \n",
      " nal)                                                            \n",
      "                                                                 \n",
      " dense_6 (Dense)             (None, 6)                 390       \n",
      "                                                                 \n",
      " dense_7 (Dense)             (None, 5)                 35        \n",
      "                                                                 \n",
      "=================================================================\n",
      "Total params: 172,969\n",
      "Trainable params: 172,969\n",
      "Non-trainable params: 0\n",
      "_________________________________________________________________\n"
     ]
    }
   ],
   "source": [
    "# Parameters\n",
    "embedding_dim = 16\n",
    "lstm_dim = 32\n",
    "dense_dim = 6\n",
    "\n",
    "# Model Definition with LSTM\n",
    "model_lstm = tf.keras.Sequential([\n",
    "    tf.keras.layers.Embedding(vocab_size, embedding_dim, input_length=maxlen),\n",
    "    tf.keras.layers.Bidirectional(tf.keras.layers.LSTM(lstm_dim)),\n",
    "    tf.keras.layers.Dense(dense_dim, activation='relu'),\n",
    "    tf.keras.layers.Dense(5, activation='softmax')\n",
    "])\n",
    "\n",
    "# Set the training parameters\n",
    "model_lstm.compile(loss='categorical_crossentropy',optimizer='adam',metrics=['accuracy'])\n",
    "\n",
    "# model summary\n",
    "model_lstm.summary()"
   ]
  },
  {
   "cell_type": "code",
   "execution_count": 127,
   "id": "09dfdff4",
   "metadata": {},
   "outputs": [
    {
     "name": "stdout",
     "output_type": "stream",
     "text": [
      "Epoch 1/10\n",
      "9/9 [==============================] - ETA: 0s - loss: 1.6083 - accuracy: 0.2253"
     ]
    },
    {
     "ename": "ValueError",
     "evalue": "Failed to find data adapter that can handle input: (<class 'list'> containing values of types {\"<class 'str'>\"}), <class 'numpy.ndarray'>",
     "output_type": "error",
     "traceback": [
      "\u001b[1;31m---------------------------------------------------------------------------\u001b[0m",
      "\u001b[1;31mValueError\u001b[0m                                Traceback (most recent call last)",
      "\u001b[1;32m<ipython-input-127-0414346b87f6>\u001b[0m in \u001b[0;36m<module>\u001b[1;34m\u001b[0m\n\u001b[0;32m      3\u001b[0m \u001b[1;33m\u001b[0m\u001b[0m\n\u001b[0;32m      4\u001b[0m \u001b[1;31m# Train the model\u001b[0m\u001b[1;33m\u001b[0m\u001b[1;33m\u001b[0m\u001b[1;33m\u001b[0m\u001b[0m\n\u001b[1;32m----> 5\u001b[1;33m \u001b[0mhistory_lstm\u001b[0m \u001b[1;33m=\u001b[0m \u001b[0mmodel_lstm\u001b[0m\u001b[1;33m.\u001b[0m\u001b[0mfit\u001b[0m\u001b[1;33m(\u001b[0m\u001b[0mX_train\u001b[0m\u001b[1;33m,\u001b[0m \u001b[0mtrain_labels\u001b[0m\u001b[1;33m,\u001b[0m \u001b[0mbatch_size\u001b[0m\u001b[1;33m=\u001b[0m\u001b[0mBATCH_SIZE\u001b[0m\u001b[1;33m,\u001b[0m \u001b[0mepochs\u001b[0m\u001b[1;33m=\u001b[0m\u001b[0mNUM_EPOCHS\u001b[0m\u001b[1;33m,\u001b[0m \u001b[0mvalidation_data\u001b[0m\u001b[1;33m=\u001b[0m\u001b[1;33m(\u001b[0m\u001b[0my_test\u001b[0m\u001b[1;33m,\u001b[0m \u001b[0mtest_labels\u001b[0m\u001b[1;33m)\u001b[0m\u001b[1;33m)\u001b[0m\u001b[1;33m\u001b[0m\u001b[1;33m\u001b[0m\u001b[0m\n\u001b[0m",
      "\u001b[1;32m~\\anaconda3\\lib\\site-packages\\keras\\utils\\traceback_utils.py\u001b[0m in \u001b[0;36merror_handler\u001b[1;34m(*args, **kwargs)\u001b[0m\n\u001b[0;32m     65\u001b[0m     \u001b[1;32mexcept\u001b[0m \u001b[0mException\u001b[0m \u001b[1;32mas\u001b[0m \u001b[0me\u001b[0m\u001b[1;33m:\u001b[0m  \u001b[1;31m# pylint: disable=broad-except\u001b[0m\u001b[1;33m\u001b[0m\u001b[1;33m\u001b[0m\u001b[0m\n\u001b[0;32m     66\u001b[0m       \u001b[0mfiltered_tb\u001b[0m \u001b[1;33m=\u001b[0m \u001b[0m_process_traceback_frames\u001b[0m\u001b[1;33m(\u001b[0m\u001b[0me\u001b[0m\u001b[1;33m.\u001b[0m\u001b[0m__traceback__\u001b[0m\u001b[1;33m)\u001b[0m\u001b[1;33m\u001b[0m\u001b[1;33m\u001b[0m\u001b[0m\n\u001b[1;32m---> 67\u001b[1;33m       \u001b[1;32mraise\u001b[0m \u001b[0me\u001b[0m\u001b[1;33m.\u001b[0m\u001b[0mwith_traceback\u001b[0m\u001b[1;33m(\u001b[0m\u001b[0mfiltered_tb\u001b[0m\u001b[1;33m)\u001b[0m \u001b[1;32mfrom\u001b[0m \u001b[1;32mNone\u001b[0m\u001b[1;33m\u001b[0m\u001b[1;33m\u001b[0m\u001b[0m\n\u001b[0m\u001b[0;32m     68\u001b[0m     \u001b[1;32mfinally\u001b[0m\u001b[1;33m:\u001b[0m\u001b[1;33m\u001b[0m\u001b[1;33m\u001b[0m\u001b[0m\n\u001b[0;32m     69\u001b[0m       \u001b[1;32mdel\u001b[0m \u001b[0mfiltered_tb\u001b[0m\u001b[1;33m\u001b[0m\u001b[1;33m\u001b[0m\u001b[0m\n",
      "\u001b[1;32m~\\anaconda3\\lib\\site-packages\\keras\\engine\\data_adapter.py\u001b[0m in \u001b[0;36mselect_data_adapter\u001b[1;34m(x, y)\u001b[0m\n\u001b[0;32m    983\u001b[0m   \u001b[1;32mif\u001b[0m \u001b[1;32mnot\u001b[0m \u001b[0madapter_cls\u001b[0m\u001b[1;33m:\u001b[0m\u001b[1;33m\u001b[0m\u001b[1;33m\u001b[0m\u001b[0m\n\u001b[0;32m    984\u001b[0m     \u001b[1;31m# TODO(scottzhu): This should be a less implementation-specific error.\u001b[0m\u001b[1;33m\u001b[0m\u001b[1;33m\u001b[0m\u001b[1;33m\u001b[0m\u001b[0m\n\u001b[1;32m--> 985\u001b[1;33m     raise ValueError(\n\u001b[0m\u001b[0;32m    986\u001b[0m         \u001b[1;34m\"Failed to find data adapter that can handle \"\u001b[0m\u001b[1;33m\u001b[0m\u001b[1;33m\u001b[0m\u001b[0m\n\u001b[0;32m    987\u001b[0m         \"input: {}, {}\".format(\n",
      "\u001b[1;31mValueError\u001b[0m: Failed to find data adapter that can handle input: (<class 'list'> containing values of types {\"<class 'str'>\"}), <class 'numpy.ndarray'>"
     ]
    }
   ],
   "source": [
    "NUM_EPOCHS = 10\n",
    "BATCH_SIZE = 128\n",
    "\n",
    "# Train the model\n",
    "history_lstm = model_lstm.fit(X_train, train_labels, batch_size=BATCH_SIZE, epochs=NUM_EPOCHS, validation_data=(y_test, test_labels))"
   ]
  },
  {
   "cell_type": "code",
   "execution_count": 129,
   "id": "f1ffe306",
   "metadata": {},
   "outputs": [
    {
     "name": "stdout",
     "output_type": "stream",
     "text": [
      "Model: \"sequential_5\"\n",
      "_________________________________________________________________\n",
      " Layer (type)                Output Shape              Param #   \n",
      "=================================================================\n",
      " embedding_4 (Embedding)     (None, 1500, 64)          640000    \n",
      "                                                                 \n",
      " conv1d (Conv1D)             (None, 1498, 128)         24704     \n",
      "                                                                 \n",
      " global_max_pooling1d (Globa  (None, 128)              0         \n",
      " lMaxPooling1D)                                                  \n",
      "                                                                 \n",
      " dropout (Dropout)           (None, 128)               0         \n",
      "                                                                 \n",
      " dense_8 (Dense)             (None, 5)                 645       \n",
      "                                                                 \n",
      "=================================================================\n",
      "Total params: 665,349\n",
      "Trainable params: 665,349\n",
      "Non-trainable params: 0\n",
      "_________________________________________________________________\n"
     ]
    }
   ],
   "source": [
    "from tensorflow.keras import regularizers\n",
    "# max_features =20000\n",
    "embedding_dim =64\n",
    "# sequence_length = 40\n",
    "\n",
    "model = tf.keras.Sequential()\n",
    "model.add(tf.keras.layers.Embedding(vocab_size, embedding_dim, input_length=maxlen,\n",
    "                                    embeddings_regularizer = regularizers.l2(0.0005)))                                    \n",
    "\n",
    "model.add(tf.keras.layers.Conv1D(128,3, activation='relu',\n",
    "                                 kernel_regularizer = regularizers.l2(0.0005),\n",
    "                                 bias_regularizer = regularizers.l2(0.0005)))                               \n",
    "model.add(tf.keras.layers.GlobalMaxPooling1D())\n",
    "model.add(tf.keras.layers.Dropout(0.5))\n",
    "model.add(tf.keras.layers.Dense(5, activation='sigmoid',\n",
    "                                kernel_regularizer=regularizers.l2(0.001),\n",
    "                                bias_regularizer=regularizers.l2(0.001),))\n",
    "                               \n",
    "\n",
    "\n",
    "\n",
    "model.summary()\n",
    "model.compile(loss=tf.keras.losses.CategoricalCrossentropy(from_logits=True), optimizer='Nadam', metrics=[\"CategoricalAccuracy\"])"
   ]
  },
  {
   "cell_type": "code",
   "execution_count": 130,
   "id": "5b69b0bc",
   "metadata": {},
   "outputs": [
    {
     "name": "stdout",
     "output_type": "stream",
     "text": [
      "Epoch 1/100\n"
     ]
    },
    {
     "name": "stderr",
     "output_type": "stream",
     "text": [
      "C:\\Users\\asus\\anaconda3\\lib\\site-packages\\tensorflow\\python\\util\\dispatch.py:1082: UserWarning: \"`categorical_crossentropy` received `from_logits=True`, but the `output` argument was produced by a sigmoid or softmax activation and thus does not represent logits. Was this intended?\"\n",
      "  return dispatch_target(*args, **kwargs)\n"
     ]
    },
    {
     "name": "stdout",
     "output_type": "stream",
     "text": [
      "9/9 [==============================] - 20s 2s/step - loss: 1.8992 - categorical_accuracy: 0.2339 - val_loss: 1.8552 - val_categorical_accuracy: 0.3289\n",
      "Epoch 2/100\n",
      "9/9 [==============================] - 6s 626ms/step - loss: 1.8156 - categorical_accuracy: 0.3327 - val_loss: 1.7972 - val_categorical_accuracy: 0.4385\n",
      "Epoch 3/100\n",
      "9/9 [==============================] - 6s 616ms/step - loss: 1.7467 - categorical_accuracy: 0.4314 - val_loss: 1.7417 - val_categorical_accuracy: 0.4609\n",
      "Epoch 4/100\n",
      "9/9 [==============================] - 6s 627ms/step - loss: 1.6776 - categorical_accuracy: 0.5120 - val_loss: 1.6832 - val_categorical_accuracy: 0.5168\n",
      "Epoch 5/100\n",
      "9/9 [==============================] - 6s 613ms/step - loss: 1.6074 - categorical_accuracy: 0.5983 - val_loss: 1.6125 - val_categorical_accuracy: 0.6219\n",
      "Epoch 6/100\n",
      "9/9 [==============================] - 5s 604ms/step - loss: 1.5122 - categorical_accuracy: 0.7287 - val_loss: 1.5209 - val_categorical_accuracy: 0.7360\n",
      "Epoch 7/100\n",
      "9/9 [==============================] - 6s 618ms/step - loss: 1.4008 - categorical_accuracy: 0.8035 - val_loss: 1.3992 - val_categorical_accuracy: 0.8233\n",
      "Epoch 8/100\n",
      "9/9 [==============================] - 6s 610ms/step - loss: 1.2490 - categorical_accuracy: 0.8744 - val_loss: 1.2463 - val_categorical_accuracy: 0.8837\n",
      "Epoch 9/100\n",
      "9/9 [==============================] - 6s 623ms/step - loss: 1.0887 - categorical_accuracy: 0.9022 - val_loss: 1.0769 - val_categorical_accuracy: 0.8949\n",
      "Epoch 10/100\n",
      "9/9 [==============================] - 6s 617ms/step - loss: 0.9302 - categorical_accuracy: 0.9089 - val_loss: 0.9151 - val_categorical_accuracy: 0.9083\n",
      "Epoch 11/100\n",
      "9/9 [==============================] - 5s 601ms/step - loss: 0.7679 - categorical_accuracy: 0.9358 - val_loss: 0.7777 - val_categorical_accuracy: 0.9172\n",
      "Epoch 12/100\n",
      "9/9 [==============================] - 5s 597ms/step - loss: 0.6596 - categorical_accuracy: 0.9396 - val_loss: 0.6739 - val_categorical_accuracy: 0.9239\n",
      "Epoch 13/100\n",
      "9/9 [==============================] - 5s 601ms/step - loss: 0.5548 - categorical_accuracy: 0.9588 - val_loss: 0.6002 - val_categorical_accuracy: 0.9262\n",
      "Epoch 14/100\n",
      "9/9 [==============================] - 5s 596ms/step - loss: 0.4915 - categorical_accuracy: 0.9559 - val_loss: 0.5496 - val_categorical_accuracy: 0.9284\n",
      "Epoch 15/100\n",
      "9/9 [==============================] - 6s 642ms/step - loss: 0.4395 - categorical_accuracy: 0.9693 - val_loss: 0.5138 - val_categorical_accuracy: 0.9329\n",
      "Epoch 16/100\n",
      "9/9 [==============================] - 6s 627ms/step - loss: 0.4050 - categorical_accuracy: 0.9693 - val_loss: 0.4898 - val_categorical_accuracy: 0.9329\n",
      "Epoch 17/100\n",
      "9/9 [==============================] - 6s 652ms/step - loss: 0.3779 - categorical_accuracy: 0.9751 - val_loss: 0.4721 - val_categorical_accuracy: 0.9329\n",
      "Epoch 18/100\n",
      "9/9 [==============================] - 6s 633ms/step - loss: 0.3627 - categorical_accuracy: 0.9827 - val_loss: 0.4572 - val_categorical_accuracy: 0.9351\n",
      "Epoch 19/100\n",
      "9/9 [==============================] - 6s 688ms/step - loss: 0.3465 - categorical_accuracy: 0.9741 - val_loss: 0.4467 - val_categorical_accuracy: 0.9374\n",
      "Epoch 20/100\n",
      "9/9 [==============================] - 6s 642ms/step - loss: 0.3347 - categorical_accuracy: 0.9751 - val_loss: 0.4364 - val_categorical_accuracy: 0.9441\n",
      "Epoch 21/100\n",
      "9/9 [==============================] - 6s 654ms/step - loss: 0.3235 - categorical_accuracy: 0.9760 - val_loss: 0.4293 - val_categorical_accuracy: 0.9441\n",
      "Epoch 22/100\n",
      "9/9 [==============================] - 6s 679ms/step - loss: 0.3035 - categorical_accuracy: 0.9837 - val_loss: 0.4200 - val_categorical_accuracy: 0.9463\n",
      "Epoch 23/100\n",
      "9/9 [==============================] - 6s 636ms/step - loss: 0.2962 - categorical_accuracy: 0.9818 - val_loss: 0.4167 - val_categorical_accuracy: 0.9463\n",
      "Epoch 24/100\n",
      "9/9 [==============================] - 6s 663ms/step - loss: 0.2830 - categorical_accuracy: 0.9914 - val_loss: 0.4119 - val_categorical_accuracy: 0.9485\n",
      "Epoch 25/100\n",
      "9/9 [==============================] - 6s 658ms/step - loss: 0.2854 - categorical_accuracy: 0.9885 - val_loss: 0.4068 - val_categorical_accuracy: 0.9485\n",
      "Epoch 26/100\n",
      "9/9 [==============================] - 6s 633ms/step - loss: 0.2789 - categorical_accuracy: 0.9885 - val_loss: 0.4026 - val_categorical_accuracy: 0.9508\n",
      "Epoch 27/100\n",
      "9/9 [==============================] - 6s 634ms/step - loss: 0.2624 - categorical_accuracy: 0.9942 - val_loss: 0.3986 - val_categorical_accuracy: 0.9441\n",
      "Epoch 28/100\n",
      "9/9 [==============================] - 6s 642ms/step - loss: 0.2631 - categorical_accuracy: 0.9914 - val_loss: 0.3959 - val_categorical_accuracy: 0.9441\n",
      "Epoch 29/100\n",
      "9/9 [==============================] - 6s 666ms/step - loss: 0.2524 - categorical_accuracy: 0.9923 - val_loss: 0.3953 - val_categorical_accuracy: 0.9553\n",
      "Epoch 30/100\n",
      "9/9 [==============================] - 6s 652ms/step - loss: 0.2571 - categorical_accuracy: 0.9933 - val_loss: 0.3921 - val_categorical_accuracy: 0.9530\n",
      "Epoch 31/100\n",
      "9/9 [==============================] - 6s 701ms/step - loss: 0.2496 - categorical_accuracy: 0.9904 - val_loss: 0.3930 - val_categorical_accuracy: 0.9575\n",
      "Epoch 32/100\n",
      "9/9 [==============================] - 6s 643ms/step - loss: 0.2393 - categorical_accuracy: 0.9933 - val_loss: 0.3889 - val_categorical_accuracy: 0.9530\n",
      "Epoch 33/100\n",
      "9/9 [==============================] - 6s 688ms/step - loss: 0.2390 - categorical_accuracy: 0.9942 - val_loss: 0.3844 - val_categorical_accuracy: 0.9463\n",
      "Epoch 34/100\n",
      "9/9 [==============================] - 6s 690ms/step - loss: 0.2350 - categorical_accuracy: 0.9942 - val_loss: 0.3812 - val_categorical_accuracy: 0.9463\n",
      "Epoch 35/100\n",
      "9/9 [==============================] - 6s 647ms/step - loss: 0.2329 - categorical_accuracy: 0.9923 - val_loss: 0.3795 - val_categorical_accuracy: 0.9463\n",
      "Epoch 36/100\n",
      "9/9 [==============================] - 6s 695ms/step - loss: 0.2298 - categorical_accuracy: 0.9923 - val_loss: 0.3792 - val_categorical_accuracy: 0.9508\n",
      "Epoch 37/100\n",
      "9/9 [==============================] - 6s 705ms/step - loss: 0.2223 - categorical_accuracy: 0.9952 - val_loss: 0.3775 - val_categorical_accuracy: 0.9485\n",
      "Epoch 38/100\n",
      "9/9 [==============================] - 6s 674ms/step - loss: 0.2340 - categorical_accuracy: 0.9914 - val_loss: 0.3756 - val_categorical_accuracy: 0.9441\n",
      "Epoch 39/100\n",
      "9/9 [==============================] - 6s 697ms/step - loss: 0.2195 - categorical_accuracy: 0.9962 - val_loss: 0.3742 - val_categorical_accuracy: 0.9441\n",
      "Epoch 40/100\n",
      "9/9 [==============================] - 6s 632ms/step - loss: 0.2184 - categorical_accuracy: 0.9971 - val_loss: 0.3749 - val_categorical_accuracy: 0.9441\n",
      "Epoch 41/100\n",
      "9/9 [==============================] - 6s 638ms/step - loss: 0.2213 - categorical_accuracy: 0.9933 - val_loss: 0.3718 - val_categorical_accuracy: 0.9441\n",
      "Epoch 42/100\n",
      "9/9 [==============================] - 6s 618ms/step - loss: 0.2172 - categorical_accuracy: 0.9971 - val_loss: 0.3694 - val_categorical_accuracy: 0.9418\n",
      "Epoch 43/100\n",
      "9/9 [==============================] - 6s 613ms/step - loss: 0.2178 - categorical_accuracy: 0.9942 - val_loss: 0.3666 - val_categorical_accuracy: 0.9441\n",
      "Epoch 44/100\n",
      "9/9 [==============================] - 6s 634ms/step - loss: 0.2154 - categorical_accuracy: 0.9942 - val_loss: 0.3644 - val_categorical_accuracy: 0.9463\n",
      "Epoch 45/100\n",
      "9/9 [==============================] - 6s 618ms/step - loss: 0.2105 - categorical_accuracy: 0.9962 - val_loss: 0.3618 - val_categorical_accuracy: 0.9463\n",
      "Epoch 46/100\n",
      "9/9 [==============================] - 6s 628ms/step - loss: 0.2147 - categorical_accuracy: 0.9962 - val_loss: 0.3615 - val_categorical_accuracy: 0.9508\n",
      "Epoch 47/100\n",
      "9/9 [==============================] - 6s 623ms/step - loss: 0.2045 - categorical_accuracy: 0.9990 - val_loss: 0.3617 - val_categorical_accuracy: 0.9485\n",
      "Epoch 48/100\n",
      "9/9 [==============================] - 6s 633ms/step - loss: 0.2095 - categorical_accuracy: 0.9971 - val_loss: 0.3627 - val_categorical_accuracy: 0.9463\n",
      "Epoch 49/100\n",
      "9/9 [==============================] - 6s 622ms/step - loss: 0.2044 - categorical_accuracy: 0.9962 - val_loss: 0.3618 - val_categorical_accuracy: 0.9485\n",
      "Epoch 50/100\n"
     ]
    },
    {
     "name": "stdout",
     "output_type": "stream",
     "text": [
      "9/9 [==============================] - 6s 615ms/step - loss: 0.2023 - categorical_accuracy: 0.9952 - val_loss: 0.3605 - val_categorical_accuracy: 0.9441\n",
      "Epoch 51/100\n",
      "9/9 [==============================] - 6s 620ms/step - loss: 0.2025 - categorical_accuracy: 0.9971 - val_loss: 0.3599 - val_categorical_accuracy: 0.9485\n",
      "Epoch 52/100\n",
      "9/9 [==============================] - 6s 624ms/step - loss: 0.1981 - categorical_accuracy: 0.9971 - val_loss: 0.3583 - val_categorical_accuracy: 0.9463\n",
      "Epoch 53/100\n",
      "9/9 [==============================] - 6s 631ms/step - loss: 0.2006 - categorical_accuracy: 0.9942 - val_loss: 0.3576 - val_categorical_accuracy: 0.9441\n",
      "Epoch 54/100\n",
      "9/9 [==============================] - 6s 653ms/step - loss: 0.1967 - categorical_accuracy: 0.9971 - val_loss: 0.3577 - val_categorical_accuracy: 0.9485\n",
      "Epoch 55/100\n",
      "9/9 [==============================] - 6s 624ms/step - loss: 0.1947 - categorical_accuracy: 0.9962 - val_loss: 0.3597 - val_categorical_accuracy: 0.9441\n",
      "Epoch 56/100\n",
      "9/9 [==============================] - 6s 620ms/step - loss: 0.1977 - categorical_accuracy: 0.9942 - val_loss: 0.3592 - val_categorical_accuracy: 0.9418\n",
      "Epoch 57/100\n",
      "9/9 [==============================] - 6s 619ms/step - loss: 0.1916 - categorical_accuracy: 0.9971 - val_loss: 0.3564 - val_categorical_accuracy: 0.9463\n",
      "Epoch 58/100\n",
      "9/9 [==============================] - 6s 619ms/step - loss: 0.1894 - categorical_accuracy: 0.9981 - val_loss: 0.3559 - val_categorical_accuracy: 0.9441\n",
      "Epoch 59/100\n",
      "9/9 [==============================] - 6s 630ms/step - loss: 0.1925 - categorical_accuracy: 0.9971 - val_loss: 0.3538 - val_categorical_accuracy: 0.9441\n",
      "Epoch 60/100\n",
      "9/9 [==============================] - 6s 625ms/step - loss: 0.1865 - categorical_accuracy: 0.9981 - val_loss: 0.3529 - val_categorical_accuracy: 0.9441\n",
      "Epoch 61/100\n",
      "9/9 [==============================] - 6s 656ms/step - loss: 0.1834 - categorical_accuracy: 0.9981 - val_loss: 0.3520 - val_categorical_accuracy: 0.9441\n",
      "Epoch 62/100\n",
      "9/9 [==============================] - 6s 653ms/step - loss: 0.1826 - categorical_accuracy: 1.0000 - val_loss: 0.3501 - val_categorical_accuracy: 0.9418\n",
      "Epoch 63/100\n",
      "9/9 [==============================] - 6s 668ms/step - loss: 0.1874 - categorical_accuracy: 0.9952 - val_loss: 0.3499 - val_categorical_accuracy: 0.9441\n",
      "Epoch 64/100\n",
      "9/9 [==============================] - 6s 636ms/step - loss: 0.1831 - categorical_accuracy: 0.9971 - val_loss: 0.3497 - val_categorical_accuracy: 0.9418\n",
      "Epoch 65/100\n",
      "9/9 [==============================] - 6s 640ms/step - loss: 0.1786 - categorical_accuracy: 1.0000 - val_loss: 0.3498 - val_categorical_accuracy: 0.9441\n",
      "Epoch 66/100\n",
      "9/9 [==============================] - 6s 628ms/step - loss: 0.1825 - categorical_accuracy: 0.9981 - val_loss: 0.3495 - val_categorical_accuracy: 0.9441\n",
      "Epoch 67/100\n",
      "9/9 [==============================] - 6s 620ms/step - loss: 0.1769 - categorical_accuracy: 0.9990 - val_loss: 0.3475 - val_categorical_accuracy: 0.9441\n",
      "Epoch 68/100\n",
      "9/9 [==============================] - 6s 619ms/step - loss: 0.1802 - categorical_accuracy: 0.9990 - val_loss: 0.3482 - val_categorical_accuracy: 0.9441\n",
      "Epoch 69/100\n",
      "9/9 [==============================] - 6s 621ms/step - loss: 0.1795 - categorical_accuracy: 0.9971 - val_loss: 0.3495 - val_categorical_accuracy: 0.9441\n",
      "Epoch 70/100\n",
      "9/9 [==============================] - 6s 623ms/step - loss: 0.1840 - categorical_accuracy: 0.9942 - val_loss: 0.3515 - val_categorical_accuracy: 0.9418\n",
      "Epoch 71/100\n",
      "9/9 [==============================] - 6s 632ms/step - loss: 0.1796 - categorical_accuracy: 0.9971 - val_loss: 0.3512 - val_categorical_accuracy: 0.9418\n",
      "Epoch 72/100\n",
      "9/9 [==============================] - 6s 639ms/step - loss: 0.1737 - categorical_accuracy: 0.9990 - val_loss: 0.3502 - val_categorical_accuracy: 0.9418\n",
      "Epoch 73/100\n",
      "9/9 [==============================] - 6s 630ms/step - loss: 0.1767 - categorical_accuracy: 0.9962 - val_loss: 0.3499 - val_categorical_accuracy: 0.9418\n",
      "Epoch 74/100\n",
      "9/9 [==============================] - 6s 633ms/step - loss: 0.1758 - categorical_accuracy: 0.9981 - val_loss: 0.3514 - val_categorical_accuracy: 0.9396\n",
      "Epoch 75/100\n",
      "9/9 [==============================] - 6s 639ms/step - loss: 0.1770 - categorical_accuracy: 0.9942 - val_loss: 0.3472 - val_categorical_accuracy: 0.9396\n",
      "Epoch 76/100\n",
      "9/9 [==============================] - 6s 645ms/step - loss: 0.1692 - categorical_accuracy: 0.9990 - val_loss: 0.3466 - val_categorical_accuracy: 0.9396\n",
      "Epoch 77/100\n",
      "9/9 [==============================] - 6s 636ms/step - loss: 0.1685 - categorical_accuracy: 0.9990 - val_loss: 0.3487 - val_categorical_accuracy: 0.9396\n",
      "Epoch 78/100\n",
      "9/9 [==============================] - 6s 637ms/step - loss: 0.1693 - categorical_accuracy: 0.9990 - val_loss: 0.3496 - val_categorical_accuracy: 0.9374\n",
      "Epoch 79/100\n",
      "9/9 [==============================] - 6s 618ms/step - loss: 0.1687 - categorical_accuracy: 0.9990 - val_loss: 0.3474 - val_categorical_accuracy: 0.9374\n",
      "Epoch 80/100\n",
      "9/9 [==============================] - 6s 625ms/step - loss: 0.1684 - categorical_accuracy: 0.9971 - val_loss: 0.3468 - val_categorical_accuracy: 0.9374\n",
      "Epoch 81/100\n",
      "9/9 [==============================] - 6s 626ms/step - loss: 0.1717 - categorical_accuracy: 0.9962 - val_loss: 0.3462 - val_categorical_accuracy: 0.9351\n",
      "Epoch 82/100\n",
      "9/9 [==============================] - 6s 620ms/step - loss: 0.1700 - categorical_accuracy: 0.9971 - val_loss: 0.3463 - val_categorical_accuracy: 0.9374\n",
      "Epoch 83/100\n",
      "9/9 [==============================] - 6s 623ms/step - loss: 0.1645 - categorical_accuracy: 0.9981 - val_loss: 0.3452 - val_categorical_accuracy: 0.9374\n",
      "Epoch 84/100\n",
      "9/9 [==============================] - 6s 633ms/step - loss: 0.1648 - categorical_accuracy: 0.9990 - val_loss: 0.3460 - val_categorical_accuracy: 0.9374\n",
      "Epoch 85/100\n",
      "9/9 [==============================] - 6s 634ms/step - loss: 0.1687 - categorical_accuracy: 0.9962 - val_loss: 0.3440 - val_categorical_accuracy: 0.9396\n",
      "Epoch 86/100\n",
      "9/9 [==============================] - 6s 649ms/step - loss: 0.1632 - categorical_accuracy: 0.9990 - val_loss: 0.3449 - val_categorical_accuracy: 0.9351\n",
      "Epoch 87/100\n",
      "9/9 [==============================] - 6s 661ms/step - loss: 0.1632 - categorical_accuracy: 0.9990 - val_loss: 0.3451 - val_categorical_accuracy: 0.9374\n",
      "Epoch 88/100\n",
      "9/9 [==============================] - 6s 668ms/step - loss: 0.1628 - categorical_accuracy: 1.0000 - val_loss: 0.3458 - val_categorical_accuracy: 0.9374\n",
      "Epoch 89/100\n",
      "9/9 [==============================] - 6s 656ms/step - loss: 0.1697 - categorical_accuracy: 0.9952 - val_loss: 0.3434 - val_categorical_accuracy: 0.9374\n",
      "Epoch 90/100\n",
      "9/9 [==============================] - 6s 672ms/step - loss: 0.1596 - categorical_accuracy: 0.9990 - val_loss: 0.3438 - val_categorical_accuracy: 0.9374\n",
      "Epoch 91/100\n",
      "9/9 [==============================] - 6s 657ms/step - loss: 0.1651 - categorical_accuracy: 0.9990 - val_loss: 0.3463 - val_categorical_accuracy: 0.9374\n",
      "Epoch 92/100\n",
      "9/9 [==============================] - 6s 658ms/step - loss: 0.1616 - categorical_accuracy: 0.9981 - val_loss: 0.3480 - val_categorical_accuracy: 0.9374\n",
      "Epoch 93/100\n",
      "9/9 [==============================] - 6s 655ms/step - loss: 0.1599 - categorical_accuracy: 0.9981 - val_loss: 0.3482 - val_categorical_accuracy: 0.9351\n",
      "Epoch 94/100\n",
      "9/9 [==============================] - 6s 649ms/step - loss: 0.1629 - categorical_accuracy: 0.9952 - val_loss: 0.3470 - val_categorical_accuracy: 0.9351\n",
      "Epoch 95/100\n",
      "9/9 [==============================] - 6s 651ms/step - loss: 0.1582 - categorical_accuracy: 0.9990 - val_loss: 0.3472 - val_categorical_accuracy: 0.9351\n",
      "Epoch 96/100\n",
      "9/9 [==============================] - 6s 651ms/step - loss: 0.1616 - categorical_accuracy: 0.9981 - val_loss: 0.3473 - val_categorical_accuracy: 0.9351\n",
      "Epoch 97/100\n",
      "9/9 [==============================] - 6s 646ms/step - loss: 0.1600 - categorical_accuracy: 0.9981 - val_loss: 0.3471 - val_categorical_accuracy: 0.9374\n",
      "Epoch 98/100\n",
      "9/9 [==============================] - 6s 632ms/step - loss: 0.1553 - categorical_accuracy: 1.0000 - val_loss: 0.3468 - val_categorical_accuracy: 0.9374\n",
      "Epoch 99/100\n"
     ]
    },
    {
     "name": "stdout",
     "output_type": "stream",
     "text": [
      "9/9 [==============================] - 6s 643ms/step - loss: 0.1579 - categorical_accuracy: 0.9990 - val_loss: 0.3476 - val_categorical_accuracy: 0.9351\n",
      "Epoch 100/100\n",
      "9/9 [==============================] - 6s 626ms/step - loss: 0.1562 - categorical_accuracy: 0.9990 - val_loss: 0.3475 - val_categorical_accuracy: 0.9351\n"
     ]
    }
   ],
   "source": [
    "epochs = 100\n",
    "# Fit the model using the train and test datasets.\n",
    "#history = model.fit(x_train, train_labels,validation_data= (x_test,test_labels),epochs=epochs )\n",
    "history = model.fit(train_ds.shuffle(2000).batch(128),\n",
    "                    epochs= epochs ,\n",
    "                    validation_data=test_ds.batch(128),\n",
    "                    verbose=1)"
   ]
  },
  {
   "cell_type": "code",
   "execution_count": null,
   "id": "e7139d79",
   "metadata": {},
   "outputs": [],
   "source": [
    "# train_sequences, train_padded = generate_pad_seq(train_token, train_sentences)"
   ]
  },
  {
   "cell_type": "code",
   "execution_count": null,
   "id": "2aae3c4a",
   "metadata": {},
   "outputs": [],
   "source": [
    "# test_sequences, tes_padded = generate_pad_seq(train_token, test_sentences)"
   ]
  },
  {
   "cell_type": "code",
   "execution_count": null,
   "id": "cd40a3c0",
   "metadata": {},
   "outputs": [],
   "source": [
    "# train_sequences[0]\n",
    "# len(train_sequences[0])\n",
    "# len(train_sentences[0].split())\n",
    "# len(train_padded[0])\n"
   ]
  },
  {
   "cell_type": "code",
   "execution_count": null,
   "id": "77a28f46",
   "metadata": {},
   "outputs": [],
   "source": []
  }
 ],
 "metadata": {
  "kernelspec": {
   "display_name": "Python 3",
   "language": "python",
   "name": "python3"
  },
  "language_info": {
   "codemirror_mode": {
    "name": "ipython",
    "version": 3
   },
   "file_extension": ".py",
   "mimetype": "text/x-python",
   "name": "python",
   "nbconvert_exporter": "python",
   "pygments_lexer": "ipython3",
   "version": "3.8.8"
  }
 },
 "nbformat": 4,
 "nbformat_minor": 5
}
